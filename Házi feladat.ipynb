{
 "cells": [
  {
   "cell_type": "markdown",
   "id": "3ff04179",
   "metadata": {},
   "source": [
    "# 1. házi"
   ]
  },
  {
   "cell_type": "markdown",
   "id": "3a1a3c09",
   "metadata": {},
   "source": [
    "### Karakterlánc"
   ]
  },
  {
   "cell_type": "markdown",
   "id": "9e4af7fc",
   "metadata": {},
   "source": [
    "Adott az alábbi karakterlánc. Módosítsd úgy, hogy a print-el kiíratva a két verssor külön sorba kerüljön: \n",
    "“Ég a napmelegtől a kopár szík sarja Tikkadt szöcskenyájak legelésznek rajta”"
   ]
  },
  {
   "cell_type": "code",
   "execution_count": 1,
   "id": "b477372c",
   "metadata": {},
   "outputs": [
    {
     "name": "stdout",
     "output_type": "stream",
     "text": [
      "Ég a napmelegtől a kopár szík sarja \n",
      "Tikkadt szöcskenyájak legelésznek rajta\n"
     ]
    }
   ],
   "source": [
    "print('Ég a napmelegtől a kopár szík sarja \\nTikkadt szöcskenyájak legelésznek rajta')"
   ]
  },
  {
   "cell_type": "markdown",
   "id": "66c683a0",
   "metadata": {},
   "source": [
    "Készíts programot, amely egy két szóból álló, egyetlen szóközzel határolt karakterlánc szavait megcseréli."
   ]
  },
  {
   "cell_type": "code",
   "execution_count": null,
   "id": "c8087494",
   "metadata": {},
   "outputs": [],
   "source": [
    "szoveg = 'házi feladat'\n",
    "print(a.replace(a[0:4], a[5:12]))\n",
    "?"
   ]
  },
  {
   "cell_type": "markdown",
   "id": "8ce5b219",
   "metadata": {},
   "source": [
    "Készíts programot, amely egy két szóból álló, egyetlen szóközzel határolt, kisbetűs nevet javít ki: nemecsek ernő -> Nemecsek Ernő. Próbáld meg úgy is, hogy nem használod a függvényt, ami dedikáltan erre szolgál!"
   ]
  },
  {
   "cell_type": "code",
   "execution_count": 39,
   "id": "59f33c89",
   "metadata": {},
   "outputs": [
    {
     "name": "stdout",
     "output_type": "stream",
     "text": [
      "Nemecsek Ernő\n"
     ]
    }
   ],
   "source": [
    "nev = 'nemecsek ernő'\n",
    "nev.title()\n",
    "print(nev[0].upper() + nev[1:9] + nev[9].upper() + nev[10:13])"
   ]
  },
  {
   "cell_type": "markdown",
   "id": "41c59aba",
   "metadata": {},
   "source": [
    "### Numerikus"
   ]
  },
  {
   "cell_type": "markdown",
   "id": "44e926f7",
   "metadata": {},
   "source": [
    "Készítsen programot, amely kiszámolja és megjeleníti, hogy 20 ezer Ft mennyit ér euróban és dollárban! Az euró árfolyama legyen 352.5 Ft, a dolláré pedig 295.5 Ft. A számításhoz használjon változókat! Az eredményt egészre kerekítve adja meg!"
   ]
  },
  {
   "cell_type": "code",
   "execution_count": 82,
   "id": "e276853f",
   "metadata": {},
   "outputs": [
    {
     "name": "stdout",
     "output_type": "stream",
     "text": [
      "20.000 forint 57 eurót és 68 dollárt ér.\n"
     ]
    }
   ],
   "source": [
    "euro_valtozo = 352.3\n",
    "dollar_valtozo = 295.5\n",
    "forint = 20000\n",
    "euro_ertek = format(forint / euro_valtozo, \".0f\")\n",
    "dollar_ertek = format(forint / dollar_valtozo, \".0f\")\n",
    "ertek = '20.000 forint {} eurót és {} dollárt ér.'\n",
    "print(ertek.format(euro_ertek, dollar_ertek))"
   ]
  },
  {
   "cell_type": "markdown",
   "id": "44acda94",
   "metadata": {},
   "source": [
    "Számítsuk ki és jelenítsük meg a téglatest térfogatának és felszínének nagyságát, ha élei a=3, b=4 és c=5 egység hosszúak. A térfogat: V=abc, a felszín: A=2(ab+ac+bc). A választ esztétikus formában, 1 sorban adjuk meg!"
   ]
  },
  {
   "cell_type": "code",
   "execution_count": 68,
   "id": "5ea5dbec",
   "metadata": {},
   "outputs": [
    {
     "name": "stdout",
     "output_type": "stream",
     "text": [
      "A téglatest térfogata 60, a felszíne 94.\n"
     ]
    }
   ],
   "source": [
    "a = 3\n",
    "b = 4\n",
    "c = 5\n",
    "v = a * b * c\n",
    "A = 2 * (a * b + a * c + b * c)\n",
    "teglatest = 'A téglatest térfogata {}, a felszíne {}.'\n",
    "print(teglatest.format(v, A))"
   ]
  },
  {
   "cell_type": "markdown",
   "id": "d163ec4a",
   "metadata": {},
   "source": [
    "Készíts programot, megadja két adott szám egész osztási eredményét!"
   ]
  },
  {
   "cell_type": "code",
   "execution_count": 77,
   "id": "965dbf77",
   "metadata": {},
   "outputs": [
    {
     "name": "stdout",
     "output_type": "stream",
     "text": [
      "20\n",
      "3\n",
      "A két szám egészre kerekített osztási eredménye: 6\n"
     ]
    }
   ],
   "source": [
    "elso = int(input())\n",
    "masodik = int(input())\n",
    "osztas = 'A két szám egészre kerekített osztási eredménye: {}'\n",
    "print(osztas.format(int(elso / masodik)))"
   ]
  },
  {
   "cell_type": "markdown",
   "id": "a865db4c",
   "metadata": {},
   "source": [
    "### input"
   ]
  },
  {
   "cell_type": "markdown",
   "id": "9b42eb6f",
   "metadata": {},
   "source": [
    "Kérd be a felhasználótól a nevét, majd üdvözöld a kimeneten a teljes nevén!"
   ]
  },
  {
   "cell_type": "code",
   "execution_count": 57,
   "id": "f12ed414",
   "metadata": {},
   "outputs": [
    {
     "name": "stdout",
     "output_type": "stream",
     "text": [
      "Nagy Imre\n",
      "Üdvözöllek Nagy Imre!\n"
     ]
    }
   ],
   "source": [
    "felhasznalo = input()\n",
    "print('Üdvözöllek ' + felhasznalo + '!')"
   ]
  },
  {
   "cell_type": "markdown",
   "id": "60659c0f",
   "metadata": {},
   "source": [
    "Kérd be a felhasználótól egy kör sugarát, és írd ki a területét. Ezúttal nem kell foglalkoznod azzal, ha a felhasználó nem számmá konvertálható értéket ad meg."
   ]
  },
  {
   "cell_type": "code",
   "execution_count": 81,
   "id": "f39f34b8",
   "metadata": {},
   "outputs": [
    {
     "name": "stdout",
     "output_type": "stream",
     "text": [
      "30\n",
      "A kör területe: 2827.4333882308138.\n"
     ]
    }
   ],
   "source": [
    "import math\n",
    "sugar = input()\n",
    "terulet = 'A kör területe: {}.'\n",
    "print(terulet.format(int(sugar) ** 2 * math.pi))"
   ]
  },
  {
   "cell_type": "markdown",
   "id": "3d9c03e7",
   "metadata": {},
   "source": [
    "# 2. házi"
   ]
  },
  {
   "cell_type": "markdown",
   "id": "5bd8c060",
   "metadata": {},
   "source": [
    "### Feltételes elágazás"
   ]
  },
  {
   "cell_type": "markdown",
   "id": "3b3d28e4",
   "metadata": {},
   "source": [
    "Kérd be a felhasználótól a nevét és az életkorát. Ha az életkora 20 alatti, üdvözöld a keresztnevén tegeződve, ha 20 feletti, a teljes nevét magázódva!"
   ]
  },
  {
   "cell_type": "code",
   "execution_count": 37,
   "id": "b82bb6a8",
   "metadata": {},
   "outputs": [
    {
     "name": "stdout",
     "output_type": "stream",
     "text": [
      "Add meg a teljes neved: Kiss Ádám\n",
      "Add meg az életkorod: 10\n",
      "Szia Ádám!\n"
     ]
    }
   ],
   "source": [
    "name = input('Add meg a teljes neved: ')\n",
    "split_name = nev.split(\" \")\n",
    "age = input('Add meg az életkorod: ')\n",
    "age = int(age)\n",
    "if age < 20:\n",
    "    print(f'Szia {split_name[1]}!')\n",
    "else:\n",
    "    print(f'Üdvözlöm {name}!')"
   ]
  },
  {
   "cell_type": "markdown",
   "id": "46a72748",
   "metadata": {},
   "source": [
    "Kérj be a felhasználótól egy hőmérsékletet leíró számértéket, majd hogy az Celsius vagy Fahrenheit (C/F) skálán van-e megadva. Írd ki az ellentétes skála szerinti értéket. Nem megfelelő inputra (nem számérték, vagy nem C vagy F) írd ki, hogy nem megfelelő a bemenet!"
   ]
  },
  {
   "cell_type": "code",
   "execution_count": 23,
   "id": "3bd2a5b4",
   "metadata": {},
   "outputs": [
    {
     "name": "stdout",
     "output_type": "stream",
     "text": [
      "Add meg a hőmérséklet értékét! 20\n",
      "Celsius vagy Fahrenheit? (C/F formában) C\n",
      "A hőmérséklet Fahrenheitben 68.0 fok.\n"
     ]
    }
   ],
   "source": [
    "import sys\n",
    "\n",
    "degrees_value = input('Add meg a hőmérséklet értékét! ')\n",
    "if degrees_value.isnumeric():\n",
    "    degrees_value = float(degrees_value)\n",
    "else:\n",
    "    sys.exit('Nem megfelelő bemenet! Csak numerikus érték adható meg.')\n",
    "    \n",
    "degrees_type = input('Celsius vagy Fahrenheit? (C/F formában) ')\n",
    "if degrees_type == 'C' or degrees_type == 'F':\n",
    "    degrees_type = str(degrees_type)\n",
    "else:\n",
    "    sys.exit('Nem megfelelő bemenet! Csak C vagy F érték adható meg.')\n",
    "    \n",
    "if degrees_type == 'C':\n",
    "    print('A hőmérséklet Fahrenheitben ' + format(degrees_value / 0.5556 + 32, \".1f\") + ' fok.')\n",
    "else:\n",
    "    print('A hőmérséklet Celsiusban ' + format((degrees_value - 32) * 0.5556 , \".1f\") + ' fok.')"
   ]
  },
  {
   "cell_type": "markdown",
   "id": "6c350a25",
   "metadata": {},
   "source": [
    "### Logikai típus"
   ]
  },
  {
   "cell_type": "markdown",
   "id": "34875c65",
   "metadata": {},
   "source": [
    "Kérj be a felhasználótól egy évszámot, majd írd ki, hosgy szökőév-e vagy sem. Ellenőrizd, hogy a megadott érték valóban szám legyen, és négy karakter hosszú. A kiértékelést összetett logikai kifejezéssel végezd."
   ]
  },
  {
   "cell_type": "code",
   "execution_count": 30,
   "id": "399b214c",
   "metadata": {},
   "outputs": [
    {
     "name": "stdout",
     "output_type": "stream",
     "text": [
      "Kérek egy évszámot! 2020\n",
      "2020 szökőév.\n"
     ]
    }
   ],
   "source": [
    "import sys\n",
    "year = input('Kérek egy évszámot! ')\n",
    "if year.isnumeric() and len(year) == 4:\n",
    "    year = int(year)\n",
    "else:\n",
    "    sys.exit('Nem megfelelő bemenet! Csak négyjegyű évszám adható meg.')\n",
    "if year % 4 == 0:\n",
    "    print(f'{year} szökőév.')\n",
    "else:\n",
    "    print(f'{year} nem szökőév.')"
   ]
  },
  {
   "cell_type": "markdown",
   "id": "a6bc7e05",
   "metadata": {},
   "source": [
    "Valósítsd meg a „kizáró vagy” műveletet az alábbi példán keresztül: kérd be két lépcsőházi alternatív villanykapcsoló állását (csak két érték fogadható el, szabadon választhatsz, hogy 0/1, igen/nem, stb, bármely más értékre kérd be újra az értéket), majd írd ki, hogy ég-e a villany! Próbáld meg minél tömörebben megfogalmazni a kifejezést!"
   ]
  },
  {
   "cell_type": "code",
   "execution_count": 56,
   "id": "e136a16e",
   "metadata": {
    "scrolled": true
   },
   "outputs": [
    {
     "name": "stdout",
     "output_type": "stream",
     "text": [
      "Fel van kapcsolva a villany A házban? (igen/nem) a\n",
      "Fel van kapcsolva a villany B házban? (igen/nem) a\n",
      "Hibás megadott értékek, nem állapítható meg a kapcsolók státusza!\n"
     ]
    }
   ],
   "source": [
    "import sys\n",
    "a_state = input('Fel van kapcsolva a villany A házban? (igen/nem) ')\n",
    "b_state = input('Fel van kapcsolva a villany B házban? (igen/nem) ')\n",
    "if a_state == 'igen' or a_state == 'nem' and b_state == 'igen' or b_state == 'nem':\n",
    "    if a_state == 'igen':\n",
    "        if b_state == 'igen':\n",
    "            print('Mindkét házban fel van kapcsolva a villany.')\n",
    "        else:\n",
    "            print('Csak A házban és a villany.')\n",
    "    else:\n",
    "        if b_state == 'igen':\n",
    "            print('Csak B házban ég a villany.')\n",
    "        else:\n",
    "            print('Egyik házban sincs felkapcsolva a kapcsoló.')\n",
    "else:\n",
    "    print('Hibás megadott értékek, nem állapítható meg a kapcsolók státusza!')"
   ]
  },
  {
   "cell_type": "markdown",
   "id": "a2475394",
   "metadata": {},
   "source": [
    "### Lista"
   ]
  },
  {
   "cell_type": "markdown",
   "id": "a50a6554",
   "metadata": {},
   "source": [
    "Adott az alábbi lista:"
   ]
  },
  {
   "cell_type": "code",
   "execution_count": 2,
   "id": "ccab6710",
   "metadata": {},
   "outputs": [],
   "source": [
    "my_list = [\"alma\",\"banán\",\"cseresznye\",\"dinnye\"]"
   ]
  },
  {
   "cell_type": "markdown",
   "id": "da028efa",
   "metadata": {},
   "source": [
    "Írasd ki a lista elemeinek számát!"
   ]
  },
  {
   "cell_type": "code",
   "execution_count": 3,
   "id": "8a752692",
   "metadata": {},
   "outputs": [
    {
     "name": "stdout",
     "output_type": "stream",
     "text": [
      "4\n"
     ]
    }
   ],
   "source": [
    "print(len(my_list))"
   ]
  },
  {
   "cell_type": "markdown",
   "id": "ff32137b",
   "metadata": {},
   "source": [
    "Írasd ki utolsó elemét!"
   ]
  },
  {
   "cell_type": "code",
   "execution_count": 4,
   "id": "bd10bb58",
   "metadata": {},
   "outputs": [
    {
     "name": "stdout",
     "output_type": "stream",
     "text": [
      "dinnye\n"
     ]
    }
   ],
   "source": [
    "print(my_list[-1])"
   ]
  },
  {
   "cell_type": "markdown",
   "id": "99fd0bf0",
   "metadata": {},
   "source": [
    "Írasd ki első három elemét!"
   ]
  },
  {
   "cell_type": "code",
   "execution_count": 5,
   "id": "683f6344",
   "metadata": {},
   "outputs": [
    {
     "name": "stdout",
     "output_type": "stream",
     "text": [
      "['alma', 'banán', 'cseresznye']\n"
     ]
    }
   ],
   "source": [
    "print(my_list[:3])"
   ]
  },
  {
   "cell_type": "markdown",
   "id": "9819b5b2",
   "metadata": {},
   "source": [
    "Szúrd be a lista végére az “egres”-t!"
   ]
  },
  {
   "cell_type": "code",
   "execution_count": 6,
   "id": "77d8199e",
   "metadata": {},
   "outputs": [
    {
     "name": "stdout",
     "output_type": "stream",
     "text": [
      "['alma', 'banán', 'cseresznye', 'dinnye', 'egres']\n"
     ]
    }
   ],
   "source": [
    "my_list.append('egres')\n",
    "print(my_list)"
   ]
  },
  {
   "cell_type": "markdown",
   "id": "237c5030",
   "metadata": {},
   "source": [
    "Szúrd be a lista elejére az “ananászt”-t!"
   ]
  },
  {
   "cell_type": "code",
   "execution_count": 7,
   "id": "42a6e7ba",
   "metadata": {},
   "outputs": [
    {
     "name": "stdout",
     "output_type": "stream",
     "text": [
      "['ananász', 'alma', 'banán', 'cseresznye', 'dinnye', 'egres']\n"
     ]
    }
   ],
   "source": [
    "my_list.insert(0, 'ananász')\n",
    "print(my_list)"
   ]
  },
  {
   "cell_type": "markdown",
   "id": "213b1370",
   "metadata": {},
   "source": [
    "Töröld a listából a “banán”-t! Először keresd meg a “banán” pozícióját a listában, majd hajtsd végre a törlést!"
   ]
  },
  {
   "cell_type": "code",
   "execution_count": 16,
   "id": "8883c8c9",
   "metadata": {},
   "outputs": [
    {
     "name": "stdout",
     "output_type": "stream",
     "text": [
      "['ananász', 'alma', 'cseresznye', 'dinnye', 'egres']\n"
     ]
    }
   ],
   "source": [
    "banana_index = my_list.index(\"banán\")\n",
    "del my_list[banana_index]\n",
    "print(my_list)"
   ]
  },
  {
   "cell_type": "markdown",
   "id": "364af800",
   "metadata": {},
   "source": [
    "Írasd ki a lista elemeit fordított sorrendben!"
   ]
  },
  {
   "cell_type": "code",
   "execution_count": 17,
   "id": "ce369a18",
   "metadata": {},
   "outputs": [
    {
     "name": "stdout",
     "output_type": "stream",
     "text": [
      "['egres', 'dinnye', 'cseresznye', 'ananász', 'alma']\n"
     ]
    }
   ],
   "source": [
    "my_list.sort(reverse = True)\n",
    "print(my_list)"
   ]
  },
  {
   "cell_type": "markdown",
   "id": "6fbab5b1",
   "metadata": {},
   "source": [
    "Mi történik, ha a lista egy még nem létező indexű elemének próbálunk értéket adni?"
   ]
  },
  {
   "cell_type": "code",
   "execution_count": 18,
   "id": "1e5f2a05",
   "metadata": {},
   "outputs": [
    {
     "ename": "IndexError",
     "evalue": "list assignment index out of range",
     "output_type": "error",
     "traceback": [
      "\u001b[1;31m---------------------------------------------------------------------------\u001b[0m",
      "\u001b[1;31mIndexError\u001b[0m                                Traceback (most recent call last)",
      "\u001b[1;32mC:\\Users\\STARSC~1\\AppData\\Local\\Temp/ipykernel_13496/1806378069.py\u001b[0m in \u001b[0;36m<module>\u001b[1;34m\u001b[0m\n\u001b[1;32m----> 1\u001b[1;33m \u001b[0mlista\u001b[0m\u001b[1;33m[\u001b[0m\u001b[1;36m100\u001b[0m\u001b[1;33m]\u001b[0m \u001b[1;33m=\u001b[0m \u001b[1;34m\"avokádó\"\u001b[0m\u001b[1;33m\u001b[0m\u001b[1;33m\u001b[0m\u001b[0m\n\u001b[0m",
      "\u001b[1;31mIndexError\u001b[0m: list assignment index out of range"
     ]
    }
   ],
   "source": [
    "my_list[100] = \"avokádó\""
   ]
  },
  {
   "cell_type": "markdown",
   "id": "8b24b47a",
   "metadata": {},
   "source": [
    "Mivel nincs annyi elem a listában, out of range hibát dob."
   ]
  },
  {
   "cell_type": "markdown",
   "id": "8ff32305",
   "metadata": {},
   "source": [
    "# 3. házi"
   ]
  },
  {
   "cell_type": "markdown",
   "id": "750f5fab",
   "metadata": {},
   "source": [
    "Készítsünk függvénytáblát, amely 1-től 10-ig megjeleníti a számokat, négyzetüket és köbüket! A megjelenítés 3 oszlopos legyen."
   ]
  },
  {
   "cell_type": "markdown",
   "id": "672f2f8b",
   "metadata": {},
   "source": [
    "Készítsünk programot, amely addig kér be egy egész számot, amíg az 1 és 90 közé nem esik (a határokat is beleértve)\n",
    "    <br>*    ha a szám nem megfelelő, akkor kérjük be újra\n",
    "    <br>*    számoljuk és jelenítsük meg a próbálkozások számát is\n",
    "    <br>*    ha 5-nél többször helytelen számot ad meg, akkor írjuk ki, hogy “Nincs több próbálkozási lehetőség!”\n",
    "    <br>*    ha 1-5 lehetőség alatt jó számot ad meg, akkor írjuk ki: “Sikeres adatbevitel!”"
   ]
  },
  {
   "cell_type": "markdown",
   "id": "5b258025",
   "metadata": {},
   "source": [
    "Kérj be számokat a felhasználótól mindaddig, amíg nem a 42-t adja meg. 5 próbálkozásra van lehetősége, ha nem sikerül, írd ki, hogy sajnos nem sikerült. Ha eltalálja, írd ki, hogy „Gratulálok”."
   ]
  },
  {
   "cell_type": "markdown",
   "id": "009724f9",
   "metadata": {},
   "source": [
    "# 6.házi"
   ]
  },
  {
   "cell_type": "markdown",
   "id": "8d92147d",
   "metadata": {},
   "source": [
    "Készíts egy modult `maximum.py` néven elmentve, mely tartalmaz egy `maximum` nevű függvényt. A függvénynek legyen három kötelező argumentuma: `maximum(a,b,c)` A függvény visszatérési értéke legyen az argumentumban megadott számok közül a legnagyobb!"
   ]
  },
  {
   "cell_type": "markdown",
   "id": "29fc5032",
   "metadata": {},
   "source": [
    "maximum.py"
   ]
  },
  {
   "cell_type": "markdown",
   "id": "a5fef884",
   "metadata": {},
   "source": [
    "`maximum.py`-ben Készíts teszteseteket, megyek igazolják, hogy a függvény megfelelően működik. A tesztesetek csak akkor fussanak le, ha a `maximum.py` került futtatása."
   ]
  },
  {
   "cell_type": "code",
   "execution_count": null,
   "id": "858cf0f1",
   "metadata": {},
   "outputs": [],
   "source": []
  }
 ],
 "metadata": {
  "kernelspec": {
   "display_name": "Python 3 (ipykernel)",
   "language": "python",
   "name": "python3"
  },
  "language_info": {
   "codemirror_mode": {
    "name": "ipython",
    "version": 3
   },
   "file_extension": ".py",
   "mimetype": "text/x-python",
   "name": "python",
   "nbconvert_exporter": "python",
   "pygments_lexer": "ipython3",
   "version": "3.9.7"
  }
 },
 "nbformat": 4,
 "nbformat_minor": 5
}
